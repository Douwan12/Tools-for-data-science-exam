{
 "cells": [
  {
   "cell_type": "markdown",
   "id": "bb9d876d",
   "metadata": {},
   "source": [
    "# Data Science Tools and Ecosystem\n"
   ]
  },
  {
   "cell_type": "markdown",
   "id": "f2c18582",
   "metadata": {},
   "source": [
    "In this notebook, Data Science Tools and Ecosystem are summarized."
   ]
  },
  {
   "cell_type": "markdown",
   "id": "cd3fd321",
   "metadata": {},
   "source": [
    "**Objectives:**\n",
    "\n",
    "- Learn about most popular data science langages \n",
    "- Learn about most used packages\n",
    "- Learn how to create a jupyter notebook \n",
    "- Learn how to use Rstudio\n",
    "- Learn how to use github"
   ]
  },
  {
   "cell_type": "markdown",
   "id": "e03fa204",
   "metadata": {},
   "source": [
    "Some of the popular languages that Data Scientists use are:\n",
    "\n",
    "1) Python \n",
    "2) R \n",
    "3) SQL "
   ]
  },
  {
   "cell_type": "markdown",
   "id": "6bf1b01b",
   "metadata": {},
   "source": [
    "Some of the commonly used libraries used by Data Scientists include:\n",
    "\n",
    "1) Pandas\n",
    "2) ggplot\n",
    "3) Matplotlib"
   ]
  },
  {
   "cell_type": "markdown",
   "id": "c8f78390",
   "metadata": {},
   "source": [
    "| Data Science Tools |\n",
    "| --------------     |\n",
    "| Jupyter            |\n",
    "| Github             |\n",
    "| JupyterLab         |\n"
   ]
  },
  {
   "cell_type": "markdown",
   "id": "308173f5",
   "metadata": {},
   "source": [
    "### Below are a few examples of evaluating arithmetic expressions in Python.\n"
   ]
  },
  {
   "cell_type": "code",
   "execution_count": 1,
   "id": "1feb60f0",
   "metadata": {},
   "outputs": [
    {
     "data": {
      "text/plain": [
       "17"
      ]
     },
     "execution_count": 1,
     "metadata": {},
     "output_type": "execute_result"
    }
   ],
   "source": [
    "(3*4)+5"
   ]
  },
  {
   "cell_type": "code",
   "execution_count": 3,
   "id": "a9a08ba1",
   "metadata": {},
   "outputs": [
    {
     "data": {
      "text/plain": [
       "3.3333333333333335"
      ]
     },
     "execution_count": 3,
     "metadata": {},
     "output_type": "execute_result"
    }
   ],
   "source": [
    "#This will convert 200 minutes into hours by dividing it by 60\n",
    "200/60 \n"
   ]
  },
  {
   "cell_type": "markdown",
   "id": "87bd69a6",
   "metadata": {},
   "source": [
    "## Author\n",
    "\n",
    "Eddy"
   ]
  },
  {
   "cell_type": "code",
   "execution_count": null,
   "id": "1fa6a075",
   "metadata": {},
   "outputs": [],
   "source": []
  }
 ],
 "metadata": {
  "kernelspec": {
   "display_name": "Python 3 (ipykernel)",
   "language": "python",
   "name": "python3"
  },
  "language_info": {
   "codemirror_mode": {
    "name": "ipython",
    "version": 3
   },
   "file_extension": ".py",
   "mimetype": "text/x-python",
   "name": "python",
   "nbconvert_exporter": "python",
   "pygments_lexer": "ipython3",
   "version": "3.10.9"
  }
 },
 "nbformat": 4,
 "nbformat_minor": 5
}
